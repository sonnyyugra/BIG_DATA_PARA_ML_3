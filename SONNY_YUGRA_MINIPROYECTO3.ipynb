{
  "nbformat": 4,
  "nbformat_minor": 0,
  "metadata": {
    "colab": {
      "name": "plantilla_mini_proyecto_3_Sonny_Yugra.ipynb",
      "provenance": [],
      "collapsed_sections": [],
      "toc_visible": true
    },
    "kernelspec": {
      "name": "python3",
      "display_name": "Python 3"
    }
  },
  "cells": [
    {
      "cell_type": "markdown",
      "metadata": {
        "id": "WzS64v7MGtO5"
      },
      "source": [
        "# Mini Proyecto 3 \n"
      ]
    },
    {
      "cell_type": "markdown",
      "metadata": {
        "id": "izvUgqlHGryC"
      },
      "source": [
        "## Instalación de ambiente\n",
        "Debe subir el archivo \"miniproyecto_installer.py\""
      ]
    },
    {
      "cell_type": "code",
      "metadata": {
        "id": "5bBS0t22Ib8n",
        "outputId": "cf1f3e79-042d-4ee9-c202-63d21e31e971",
        "colab": {
          "resources": {
            "http://localhost:8080/nbextensions/google.colab/files.js": {
              "data": "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",
              "ok": true,
              "headers": [
                [
                  "content-type",
                  "application/javascript"
                ]
              ],
              "status": 200,
              "status_text": ""
            }
          },
          "base_uri": "https://localhost:8080/",
          "height": 90
        }
      },
      "source": [
        "from google.colab import files\n",
        "\n",
        "uploaded = files.upload()\n",
        "\n",
        "for fn in uploaded.keys():\n",
        "  print('User uploaded file \"{name}\" with length {length} bytes'.format(\n",
        "      name=fn, length=len(uploaded[fn])))"
      ],
      "execution_count": 1,
      "outputs": [
        {
          "output_type": "display_data",
          "data": {
            "text/html": [
              "\n",
              "     <input type=\"file\" id=\"files-d73da04d-d0b1-4020-9af9-e266b383dde5\" name=\"files[]\" multiple disabled\n",
              "        style=\"border:none\" />\n",
              "     <output id=\"result-d73da04d-d0b1-4020-9af9-e266b383dde5\">\n",
              "      Upload widget is only available when the cell has been executed in the\n",
              "      current browser session. Please rerun this cell to enable.\n",
              "      </output>\n",
              "      <script src=\"/nbextensions/google.colab/files.js\"></script> "
            ],
            "text/plain": [
              "<IPython.core.display.HTML object>"
            ]
          },
          "metadata": {
            "tags": []
          }
        },
        {
          "output_type": "stream",
          "text": [
            "Saving miniproyecto3_installer.py to miniproyecto3_installer.py\n",
            "User uploaded file \"miniproyecto3_installer.py\" with length 2561422 bytes\n"
          ],
          "name": "stdout"
        }
      ]
    },
    {
      "cell_type": "code",
      "metadata": {
        "id": "P7hxPTPGIkZW",
        "outputId": "18342180-7359-4c2e-8849-db62047f1f32",
        "colab": {
          "base_uri": "https://localhost:8080/"
        }
      },
      "source": [
        "exec(open('miniproyecto3_installer.py').read())"
      ],
      "execution_count": 2,
      "outputs": [
        {
          "output_type": "stream",
          "text": [
            "Active services:\n",
            "2048 NodeManager\n",
            "1907 DataNode\n",
            "1667 NameNode\n",
            "2104 JobHistoryServer\n",
            "1577 ResourceManager\n",
            "2158 Jps\n",
            "\n"
          ],
          "name": "stdout"
        }
      ]
    },
    {
      "cell_type": "markdown",
      "metadata": {
        "id": "m0SIWJwzksPj"
      },
      "source": [
        "## Actividad 1\n",
        "Visualización de datos en MySQL: *Hate Speech and Offensive Language Dataset*\n"
      ]
    },
    {
      "cell_type": "code",
      "metadata": {
        "id": "8waOaU_gaQSn",
        "outputId": "77761683-2020-4b05-b99f-21d9a2f537b0",
        "colab": {
          "base_uri": "https://localhost:8080/"
        }
      },
      "source": [
        "!mysql -u root -p"
      ],
      "execution_count": null,
      "outputs": [
        {
          "output_type": "stream",
          "text": [
            "Enter password: \n",
            "Welcome to the MySQL monitor.  Commands end with ; or \\g.\n",
            "Your MySQL connection id is 31\n",
            "Server version: 5.7.32-0ubuntu0.18.04.1 (Ubuntu)\n",
            "\n",
            "Copyright (c) 2000, 2020, Oracle and/or its affiliates. All rights reserved.\n",
            "\n",
            "Oracle is a registered trademark of Oracle Corporation and/or its\n",
            "affiliates. Other names may be trademarks of their respective\n",
            "owners.\n",
            "\n",
            "Type 'help;' or '\\h' for help. Type '\\c' to clear the current input statement.\n",
            "\n",
            "mysql> show databases;\n",
            "+--------------------+\n",
            "| Database           |\n",
            "+--------------------+\n",
            "| information_schema |\n",
            "| mysql              |\n",
            "| performance_schema |\n",
            "| sys                |\n",
            "| testdb             |\n",
            "+--------------------+\n",
            "5 rows in set (0.00 sec)\n",
            "\n",
            "mysql> use testdb\n",
            "Reading table information for completion of table and column names\n",
            "You can turn off this feature to get a quicker startup with -A\n",
            "\n",
            "Database changed\n",
            "mysql> select * from hate_speech limit 5;\n",
            "+----------+-------+-------------+--------------------+---------+-------+----------------------------------------------------------------------------------------------------------------------------------------------+\n",
            "| tweet_id | count | hate_speech | offensive_language | neither | class | tweet                                                                                                                                        |\n",
            "+----------+-------+-------------+--------------------+---------+-------+----------------------------------------------------------------------------------------------------------------------------------------------+\n",
            "|        0 |     3 |           0 |                  0 |       3 |     2 | !!! RT @mayasolovely: As a woman you shouldn't complain about cleaning up your house. &amp; as a man you should always take the trash out... |\n",
            "|        1 |     3 |           0 |                  3 |       0 |     1 | !!!!! RT @mleew17: boy dats cold...tyga dwn bad for cuffin dat hoe in the 1st place!!                                                        |\n",
            "|        2 |     3 |           0 |                  3 |       0 |     1 | !!!!!!! RT @UrKindOfBrand Dawg!!!! RT @80sbaby4life: You ever fuck a bitch and she start to cry? You be confused as shit                     |\n",
            "|        3 |     3 |           0 |                  2 |       1 |     1 | !!!!!!!!! RT @C_G_Anderson: @viva_based she look like a tranny                                                                               |\n",
            "|        4 |     6 |           0 |                  6 |       0 |     1 | !!!!!!!!!!!!! RT @ShenikaRoberts: The shit you hear about me might be true or it might be faker than the bitch who told it to ya &#57361;    |\n",
            "+----------+-------+-------------+--------------------+---------+-------+----------------------------------------------------------------------------------------------------------------------------------------------+\n",
            "5 rows in set (0.00 sec)\n",
            "\n",
            "mysql> exit\n",
            "Bye\n"
          ],
          "name": "stdout"
        }
      ]
    },
    {
      "cell_type": "markdown",
      "metadata": {
        "id": "N-r_Pmt_JUKG"
      },
      "source": [
        "## Actividad 2\n",
        "Inserción de datos con Sqoop. El password de MySQL es \"password\" (sin comillas). "
      ]
    },
    {
      "cell_type": "code",
      "metadata": {
        "id": "l2YrBx52JVZO",
        "outputId": "80050fb9-d3a0-4db7-f574-9e5d27986929",
        "colab": {
          "base_uri": "https://localhost:8080/"
        }
      },
      "source": [
        "!sqoop import-all-tables --connect jdbc:mysql://localhost/testdb --username root -P --hive-import"
      ],
      "execution_count": 3,
      "outputs": [
        {
          "output_type": "stream",
          "text": [
            "20/11/09 00:52:26 INFO sqoop.Sqoop: Running Sqoop version: 1.4.7\n",
            "Enter password: \n",
            "20/11/09 00:52:31 INFO tool.BaseSqoopTool: Using Hive-specific delimiters for output. You can override\n",
            "20/11/09 00:52:31 INFO tool.BaseSqoopTool: delimiters with --fields-terminated-by, etc.\n",
            "20/11/09 00:52:31 INFO manager.MySQLManager: Preparing to use a MySQL streaming resultset.\n",
            "Loading class `com.mysql.jdbc.Driver'. This is deprecated. The new driver class is `com.mysql.cj.jdbc.Driver'. The driver is automatically registered via the SPI and manual loading of the driver class is generally unnecessary.\n",
            "20/11/09 00:52:32 INFO tool.CodeGenTool: Beginning code generation\n",
            "20/11/09 00:52:32 INFO manager.SqlManager: Executing SQL statement: SELECT t.* FROM `hate_speech` AS t LIMIT 1\n",
            "20/11/09 00:52:32 INFO manager.SqlManager: Executing SQL statement: SELECT t.* FROM `hate_speech` AS t LIMIT 1\n",
            "20/11/09 00:52:32 INFO orm.CompilationManager: HADOOP_MAPRED_HOME is /content/hadoop\n",
            "Note: /tmp/sqoop-root/compile/78e06a6749c0c73f0bac34bbdd5c1fa4/hate_speech.java uses or overrides a deprecated API.\n",
            "Note: Recompile with -Xlint:deprecation for details.\n",
            "20/11/09 00:52:34 INFO orm.CompilationManager: Writing jar file: /tmp/sqoop-root/compile/78e06a6749c0c73f0bac34bbdd5c1fa4/hate_speech.jar\n",
            "20/11/09 00:52:34 WARN manager.MySQLManager: It looks like you are importing from mysql.\n",
            "20/11/09 00:52:34 WARN manager.MySQLManager: This transfer can be faster! Use the --direct\n",
            "20/11/09 00:52:34 WARN manager.MySQLManager: option to exercise a MySQL-specific fast path.\n",
            "20/11/09 00:52:34 INFO manager.MySQLManager: Setting zero DATETIME behavior to convertToNull (mysql)\n",
            "20/11/09 00:52:34 INFO mapreduce.ImportJobBase: Beginning import of hate_speech\n",
            "20/11/09 00:52:34 INFO Configuration.deprecation: mapred.jar is deprecated. Instead, use mapreduce.job.jar\n",
            "20/11/09 00:52:34 INFO Configuration.deprecation: mapred.map.tasks is deprecated. Instead, use mapreduce.job.maps\n",
            "20/11/09 00:52:35 INFO client.RMProxy: Connecting to ResourceManager at /0.0.0.0:8032\n",
            "20/11/09 00:52:38 INFO db.DBInputFormat: Using read commited transaction isolation\n",
            "20/11/09 00:52:38 INFO db.DataDrivenDBInputFormat: BoundingValsQuery: SELECT MIN(`tweet_id`), MAX(`tweet_id`) FROM `hate_speech`\n",
            "20/11/09 00:52:38 INFO db.IntegerSplitter: Split size: 78563; Num splits: 4 from: 0 to: 314254\n",
            "20/11/09 00:52:38 INFO mapreduce.JobSubmitter: number of splits:4\n",
            "20/11/09 00:52:39 INFO mapreduce.JobSubmitter: Submitting tokens for job: job_1604883004406_0001\n",
            "20/11/09 00:52:39 INFO impl.YarnClientImpl: Submitted application application_1604883004406_0001\n",
            "20/11/09 00:52:39 INFO mapreduce.Job: The url to track the job: http://1ee8aec61147:8088/proxy/application_1604883004406_0001/\n",
            "20/11/09 00:52:39 INFO mapreduce.Job: Running job: job_1604883004406_0001\n",
            "20/11/09 00:52:48 INFO mapreduce.Job: Job job_1604883004406_0001 running in uber mode : false\n",
            "20/11/09 00:52:48 INFO mapreduce.Job:  map 0% reduce 0%\n",
            "20/11/09 00:53:04 INFO mapreduce.Job:  map 25% reduce 0%\n",
            "20/11/09 00:53:06 INFO mapreduce.Job:  map 50% reduce 0%\n",
            "20/11/09 00:53:08 INFO mapreduce.Job:  map 100% reduce 0%\n",
            "20/11/09 00:53:08 INFO mapreduce.Job: Job job_1604883004406_0001 completed successfully\n",
            "20/11/09 00:53:08 INFO mapreduce.Job: Counters: 30\n",
            "\tFile System Counters\n",
            "\t\tFILE: Number of bytes read=0\n",
            "\t\tFILE: Number of bytes written=535436\n",
            "\t\tFILE: Number of read operations=0\n",
            "\t\tFILE: Number of large read operations=0\n",
            "\t\tFILE: Number of write operations=0\n",
            "\t\tHDFS: Number of bytes read=474\n",
            "\t\tHDFS: Number of bytes written=2244982\n",
            "\t\tHDFS: Number of read operations=16\n",
            "\t\tHDFS: Number of large read operations=0\n",
            "\t\tHDFS: Number of write operations=8\n",
            "\tJob Counters \n",
            "\t\tLaunched map tasks=4\n",
            "\t\tOther local map tasks=4\n",
            "\t\tTotal time spent by all maps in occupied slots (ms)=55710\n",
            "\t\tTotal time spent by all reduces in occupied slots (ms)=0\n",
            "\t\tTotal time spent by all map tasks (ms)=55710\n",
            "\t\tTotal vcore-seconds taken by all map tasks=55710\n",
            "\t\tTotal megabyte-seconds taken by all map tasks=57047040\n",
            "\tMap-Reduce Framework\n",
            "\t\tMap input records=24776\n",
            "\t\tMap output records=24776\n",
            "\t\tInput split bytes=474\n",
            "\t\tSpilled Records=0\n",
            "\t\tFailed Shuffles=0\n",
            "\t\tMerged Map outputs=0\n",
            "\t\tGC time elapsed (ms)=1245\n",
            "\t\tCPU time spent (ms)=8400\n",
            "\t\tPhysical memory (bytes) snapshot=745095168\n",
            "\t\tVirtual memory (bytes) snapshot=7140339712\n",
            "\t\tTotal committed heap usage (bytes)=625999872\n",
            "\tFile Input Format Counters \n",
            "\t\tBytes Read=0\n",
            "\tFile Output Format Counters \n",
            "\t\tBytes Written=2244982\n",
            "20/11/09 00:53:08 INFO mapreduce.ImportJobBase: Transferred 2.141 MB in 33.3013 seconds (65.8342 KB/sec)\n",
            "20/11/09 00:53:08 INFO mapreduce.ImportJobBase: Retrieved 24776 records.\n",
            "20/11/09 00:53:08 INFO mapreduce.ImportJobBase: Publishing Hive/Hcat import job data to Listeners for table hate_speech\n",
            "20/11/09 00:53:08 INFO manager.SqlManager: Executing SQL statement: SELECT t.* FROM `hate_speech` AS t LIMIT 1\n",
            "20/11/09 00:53:08 INFO hive.HiveImport: Loading uploaded data into Hive\n",
            "20/11/09 00:53:08 INFO conf.HiveConf: Found configuration file file:/content/apache-hive-bin/conf/hive-site.xml\n",
            "20/11/09 00:53:08 WARN conf.HiveConf: HiveConf of name hive.enforce.bucketing does not exist\n",
            "20/11/09 00:53:12 INFO hive.HiveImport: SLF4J: Class path contains multiple SLF4J bindings.\n",
            "20/11/09 00:53:12 INFO hive.HiveImport: SLF4J: Found binding in [jar:file:/content/apache-hive-2.3.7-bin/lib/log4j-slf4j-impl-2.6.2.jar!/org/slf4j/impl/StaticLoggerBinder.class]\n",
            "20/11/09 00:53:12 INFO hive.HiveImport: SLF4J: Found binding in [jar:file:/content/hadoop-2.7.0/share/hadoop/common/lib/slf4j-log4j12-1.7.10.jar!/org/slf4j/impl/StaticLoggerBinder.class]\n",
            "20/11/09 00:53:12 INFO hive.HiveImport: SLF4J: See http://www.slf4j.org/codes.html#multiple_bindings for an explanation.\n",
            "20/11/09 00:53:12 INFO hive.HiveImport: SLF4J: Actual binding is of type [org.apache.logging.slf4j.Log4jLoggerFactory]\n",
            "20/11/09 00:53:13 INFO hive.HiveImport: \n",
            "20/11/09 00:53:13 INFO hive.HiveImport: Logging initialized using configuration in jar:file:/content/apache-hive-2.3.7-bin/lib/hive-common-2.3.7.jar!/hive-log4j2.properties Async: true\n",
            "20/11/09 00:53:24 INFO hive.HiveImport: OK\n",
            "20/11/09 00:53:24 INFO hive.HiveImport: Time taken: 9.425 seconds\n",
            "20/11/09 00:53:25 INFO hive.HiveImport: Loading data to table default.hate_speech\n",
            "20/11/09 00:53:26 INFO hive.HiveImport: OK\n",
            "20/11/09 00:53:26 INFO hive.HiveImport: Time taken: 1.318 seconds\n",
            "20/11/09 00:53:26 INFO hive.HiveImport: Hive import complete.\n",
            "20/11/09 00:53:26 INFO hive.HiveImport: Export directory is contains the _SUCCESS file only, removing the directory.\n"
          ],
          "name": "stdout"
        }
      ]
    },
    {
      "cell_type": "markdown",
      "metadata": {
        "id": "56HzogOHYaor"
      },
      "source": [
        "## Actividad 3\n",
        "Visualización de datos con Hive"
      ]
    },
    {
      "cell_type": "code",
      "metadata": {
        "id": "tx29HIGCIn4o",
        "outputId": "769cfe75-a492-4175-a90b-ffc3ab9478ed",
        "colab": {
          "base_uri": "https://localhost:8080/"
        }
      },
      "source": [
        "%%writefile hive_mostrar.sql\n",
        "SELECT *\n",
        "FROM hate_speech\n",
        "limit 10;"
      ],
      "execution_count": 5,
      "outputs": [
        {
          "output_type": "stream",
          "text": [
            "Overwriting hive_mostrar.sql\n"
          ],
          "name": "stdout"
        }
      ]
    },
    {
      "cell_type": "code",
      "metadata": {
        "id": "CMeA6eGljJeD",
        "outputId": "7dbba6f9-f6d2-44ef-f50f-7efa8b8b6cce",
        "colab": {
          "base_uri": "https://localhost:8080/"
        }
      },
      "source": [
        "!hive -f hive_mostrar.sql"
      ],
      "execution_count": 6,
      "outputs": [
        {
          "output_type": "stream",
          "text": [
            "SLF4J: Class path contains multiple SLF4J bindings.\n",
            "SLF4J: Found binding in [jar:file:/content/apache-hive-2.3.7-bin/lib/log4j-slf4j-impl-2.6.2.jar!/org/slf4j/impl/StaticLoggerBinder.class]\n",
            "SLF4J: Found binding in [jar:file:/content/hadoop-2.7.0/share/hadoop/common/lib/slf4j-log4j12-1.7.10.jar!/org/slf4j/impl/StaticLoggerBinder.class]\n",
            "SLF4J: See http://www.slf4j.org/codes.html#multiple_bindings for an explanation.\n",
            "SLF4J: Actual binding is of type [org.apache.logging.slf4j.Log4jLoggerFactory]\n",
            "\n",
            "Logging initialized using configuration in jar:file:/content/apache-hive-2.3.7-bin/lib/hive-common-2.3.7.jar!/hive-log4j2.properties Async: true\n",
            "OK\n",
            "hate_speech.tweet_id\thate_speech.count\thate_speech.hate_speech\thate_speech.offensive_language\thate_speech.neither\thate_speech.class\thate_speech.tweet\n",
            "0\t3\t0\t0\t3\t2\t!!! RT @mayasolovely: As a woman you shouldn't complain about cleaning up your house. &amp; as a man you should always take the trash out...\n",
            "1\t3\t0\t3\t0\t1\t!!!!! RT @mleew17: boy dats cold...tyga dwn bad for cuffin dat hoe in the 1st place!!\n",
            "2\t3\t0\t3\t0\t1\t!!!!!!! RT @UrKindOfBrand Dawg!!!! RT @80sbaby4life: You ever fuck a bitch and she start to cry? You be confused as shit\n",
            "3\t3\t0\t2\t1\t1\t!!!!!!!!! RT @C_G_Anderson: @viva_based she look like a tranny\n",
            "4\t6\t0\t6\t0\t1\t!!!!!!!!!!!!! RT @ShenikaRoberts: The shit you hear about me might be true or it might be faker than the bitch who told it to ya &#57361;\n",
            "5\t3\t1\t2\t0\t1\t\"!!!!!!!!!!!!!!!!!!\"\"@T_Madison_x: The shit just blows me..claim you so faithful and down for somebody but still fucking with hoes! &#128514;&#128514;&#128514;\"\"\"\n",
            "6\t3\t0\t3\t0\t1\t\"!!!!!!\"\"@__BrighterDays: I can not just sit up and HATE on another bitch .. I got too much shit going on!\"\"\"\n",
            "7\t3\t0\t3\t0\t1\t!!!!&#8220;@selfiequeenbri: cause I'm tired of you big bitches coming for us skinny girls!!&#8221;\n",
            "8\t3\t0\t3\t0\t1\t\"\"\" &amp; you might not get ya bitch back &amp; thats that \"\"\"\n",
            "9\t3\t1\t2\t0\t1\t\"\"\" @rhythmixx_ :hobbies include: fighting Mariam\"\"\n",
            "Time taken: 9.358 seconds, Fetched: 10 row(s)\n"
          ],
          "name": "stdout"
        }
      ]
    },
    {
      "cell_type": "markdown",
      "metadata": {
        "id": "G-UxCQ8OlJai"
      },
      "source": [
        "## Actividad 4\n",
        "Lectura de datos con Spark SQL y separación train/test"
      ]
    },
    {
      "cell_type": "code",
      "metadata": {
        "id": "Fqf85DDY5LX4"
      },
      "source": [
        "import findspark\n",
        "findspark.init()\n",
        "\n",
        "from pyspark.sql import SparkSession\n",
        "from pyspark import SparkContext\n",
        "\n",
        "spark = SparkSession.builder.enableHiveSupport().appName(\"MP-3\").getOrCreate()"
      ],
      "execution_count": 7,
      "outputs": []
    },
    {
      "cell_type": "code",
      "metadata": {
        "id": "EeI5IS7A5q0V",
        "outputId": "a26c007c-60ad-4c73-81ae-d0eb15abce4f",
        "colab": {
          "base_uri": "https://localhost:8080/"
        }
      },
      "source": [
        "df_hate = spark.sql(\"select * from hate_speech where length(tweet) > 1 AND tweet is not NULL\")\n",
        "df_hate = df_hate.withColumn('label', df_hate['class']+1)\n",
        "df_hate.show(10)\n",
        "print(df_hate.count())\n",
        "training, testing = df_hate.randomSplit([0.95, 0.05])\n",
        "print(training.count(), testing.count())"
      ],
      "execution_count": 8,
      "outputs": [
        {
          "output_type": "stream",
          "text": [
            "+--------+-----+-----------+------------------+-------+-----+--------------------+-----+\n",
            "|tweet_id|count|hate_speech|offensive_language|neither|class|               tweet|label|\n",
            "+--------+-----+-----------+------------------+-------+-----+--------------------+-----+\n",
            "|       0|    3|          0|                 0|      3|    2|!!! RT @mayasolov...|    3|\n",
            "|       1|    3|          0|                 3|      0|    1|!!!!! RT @mleew17...|    2|\n",
            "|       2|    3|          0|                 3|      0|    1|!!!!!!! RT @UrKin...|    2|\n",
            "|       3|    3|          0|                 2|      1|    1|!!!!!!!!! RT @C_G...|    2|\n",
            "|       4|    6|          0|                 6|      0|    1|!!!!!!!!!!!!! RT ...|    2|\n",
            "|       5|    3|          1|                 2|      0|    1|\"!!!!!!!!!!!!!!!!...|    2|\n",
            "|       6|    3|          0|                 3|      0|    1|\"!!!!!!\"\"@__Brigh...|    2|\n",
            "|       7|    3|          0|                 3|      0|    1|!!!!&#8220;@selfi...|    2|\n",
            "|       8|    3|          0|                 3|      0|    1|\"\"\" &amp; you mig...|    2|\n",
            "|       9|    3|          1|                 2|      0|    1|\"\"\" @rhythmixx_ :...|    2|\n",
            "+--------+-----+-----------+------------------+-------+-----+--------------------+-----+\n",
            "only showing top 10 rows\n",
            "\n",
            "24774\n",
            "23594 1180\n"
          ],
          "name": "stdout"
        }
      ]
    },
    {
      "cell_type": "markdown",
      "metadata": {
        "id": "Iccj4dmwZEQV"
      },
      "source": [
        "## Actividad 5\n",
        "Preprocesamiento de dataset de entrenamiento, con funciones de _tokenización_ y remoción de _stopwords_ "
      ]
    },
    {
      "cell_type": "code",
      "metadata": {
        "id": "6YPEEGH0NP4H"
      },
      "source": [
        "from pyspark.ml.feature import RegexTokenizer\n",
        "from pyspark.ml.feature import StopWordsRemover\n",
        "\n",
        "tokenizer = RegexTokenizer(pattern=\"\\\\W+\", inputCol='tweet', outputCol='words' )\n",
        "\n",
        "stopWords=StopWordsRemover.loadDefaultStopWords('english')\n",
        "stopWordsRemover = StopWordsRemover(stopWords = stopWords, inputCol='words', outputCol='clean_words' )"
      ],
      "execution_count": 10,
      "outputs": []
    },
    {
      "cell_type": "code",
      "metadata": {
        "id": "_x93bhsVBlFD"
      },
      "source": [
        "# tokenizer\n",
        "training_words = tokenizer.transform(training)"
      ],
      "execution_count": 11,
      "outputs": []
    },
    {
      "cell_type": "code",
      "metadata": {
        "id": "gvSM_jUYMJ4-",
        "outputId": "35d03009-8d84-4378-fd58-036d4fce111c",
        "colab": {
          "base_uri": "https://localhost:8080/"
        }
      },
      "source": [
        "# mostrar las columnas \"words\" y \"tweet\" de training_words\n",
        "training_words.select(['tweet','words']).show(5)"
      ],
      "execution_count": 12,
      "outputs": [
        {
          "output_type": "stream",
          "text": [
            "+--------------------+--------------------+\n",
            "|               tweet|               words|\n",
            "+--------------------+--------------------+\n",
            "|!!! RT @mayasolov...|[rt, mayasolovely...|\n",
            "|!!!!! RT @mleew17...|[rt, mleew17, boy...|\n",
            "|!!!!!!! RT @UrKin...|[rt, urkindofbran...|\n",
            "|!!!!!!!!! RT @C_G...|[rt, c_g_anderson...|\n",
            "|!!!!!!!!!!!!! RT ...|[rt, shenikarober...|\n",
            "+--------------------+--------------------+\n",
            "only showing top 5 rows\n",
            "\n"
          ],
          "name": "stdout"
        }
      ]
    },
    {
      "cell_type": "code",
      "metadata": {
        "id": "dFO9XubcMNbh"
      },
      "source": [
        "# stopWordsRemover\n",
        "training_clean = stopWordsRemover.transform(training_words)"
      ],
      "execution_count": 13,
      "outputs": []
    },
    {
      "cell_type": "code",
      "metadata": {
        "id": "9sbeCI6tN0xn",
        "outputId": "a7741be0-ccc1-44fb-dfc4-d8d4c74c277f",
        "colab": {
          "base_uri": "https://localhost:8080/"
        }
      },
      "source": [
        "from pyspark.sql.functions import size\n",
        "\n",
        "# Se usan finalmente aquellas frases con más de 3 palabras que no sean stopwords\n",
        "train_words = training_clean.filter(size(training_clean['clean_words']) > 3)\n",
        "train_words.show(n=5, truncate=False)"
      ],
      "execution_count": 14,
      "outputs": [
        {
          "output_type": "stream",
          "text": [
            "+--------+-----+-----------+------------------+-------+-----+--------------------------------------------------------------------------------------------------------------------------------------------+-----+----------------------------------------------------------------------------------------------------------------------------------------------------------+--------------------------------------------------------------------------------------------+\n",
            "|tweet_id|count|hate_speech|offensive_language|neither|class|tweet                                                                                                                                       |label|words                                                                                                                                                     |clean_words                                                                                 |\n",
            "+--------+-----+-----------+------------------+-------+-----+--------------------------------------------------------------------------------------------------------------------------------------------+-----+----------------------------------------------------------------------------------------------------------------------------------------------------------+--------------------------------------------------------------------------------------------+\n",
            "|0       |3    |0          |0                 |3      |2    |!!! RT @mayasolovely: As a woman you shouldn't complain about cleaning up your house. &amp; as a man you should always take the trash out...|3    |[rt, mayasolovely, as, a, woman, you, shouldn, t, complain, about, cleaning, up, your, house, amp, as, a, man, you, should, always, take, the, trash, out]|[rt, mayasolovely, woman, shouldn, complain, cleaning, house, amp, man, always, take, trash]|\n",
            "|1       |3    |0          |3                 |0      |1    |!!!!! RT @mleew17: boy dats cold...tyga dwn bad for cuffin dat hoe in the 1st place!!                                                       |2    |[rt, mleew17, boy, dats, cold, tyga, dwn, bad, for, cuffin, dat, hoe, in, the, 1st, place]                                                                |[rt, mleew17, boy, dats, cold, tyga, dwn, bad, cuffin, dat, hoe, 1st, place]                |\n",
            "|2       |3    |0          |3                 |0      |1    |!!!!!!! RT @UrKindOfBrand Dawg!!!! RT @80sbaby4life: You ever fuck a bitch and she start to cry? You be confused as shit                    |2    |[rt, urkindofbrand, dawg, rt, 80sbaby4life, you, ever, fuck, a, bitch, and, she, start, to, cry, you, be, confused, as, shit]                             |[rt, urkindofbrand, dawg, rt, 80sbaby4life, ever, fuck, bitch, start, cry, confused, shit]  |\n",
            "|3       |3    |0          |2                 |1      |1    |!!!!!!!!! RT @C_G_Anderson: @viva_based she look like a tranny                                                                              |2    |[rt, c_g_anderson, viva_based, she, look, like, a, tranny]                                                                                                |[rt, c_g_anderson, viva_based, look, like, tranny]                                          |\n",
            "|4       |6    |0          |6                 |0      |1    |!!!!!!!!!!!!! RT @ShenikaRoberts: The shit you hear about me might be true or it might be faker than the bitch who told it to ya &#57361;   |2    |[rt, shenikaroberts, the, shit, you, hear, about, me, might, be, true, or, it, might, be, faker, than, the, bitch, who, told, it, to, ya, 57361]          |[rt, shenikaroberts, shit, hear, might, true, might, faker, bitch, told, ya, 57361]         |\n",
            "+--------+-----+-----------+------------------+-------+-----+--------------------------------------------------------------------------------------------------------------------------------------------+-----+----------------------------------------------------------------------------------------------------------------------------------------------------------+--------------------------------------------------------------------------------------------+\n",
            "only showing top 5 rows\n",
            "\n"
          ],
          "name": "stdout"
        }
      ]
    },
    {
      "cell_type": "markdown",
      "metadata": {
        "id": "E-CAP88mbdBz"
      },
      "source": [
        "## Actividad 6\n",
        "Entrenamiento de modelo Word2Vec y transformación a features numéricos"
      ]
    },
    {
      "cell_type": "code",
      "metadata": {
        "id": "VOI9aA5TN7DJ"
      },
      "source": [
        "from pyspark.ml.feature import Word2Vec\n",
        "\n",
        "model_w2v = Word2Vec(vectorSize=32, minCount=0, inputCol=\"clean_words\", outputCol=\"features\").fit(train_words)\n",
        "train_features = model_w2v.transform(train_words)"
      ],
      "execution_count": 15,
      "outputs": []
    },
    {
      "cell_type": "code",
      "metadata": {
        "id": "zJwAlNXtWkFQ",
        "outputId": "42f02698-657c-4a6e-d775-a96948901cf3",
        "colab": {
          "base_uri": "https://localhost:8080/"
        }
      },
      "source": [
        "# mostrar Dataframe final que se usará para entrenamiento\n",
        "train_features.show()"
      ],
      "execution_count": 16,
      "outputs": [
        {
          "output_type": "stream",
          "text": [
            "+--------+-----+-----------+------------------+-------+-----+--------------------+-----+--------------------+--------------------+--------------------+\n",
            "|tweet_id|count|hate_speech|offensive_language|neither|class|               tweet|label|               words|         clean_words|            features|\n",
            "+--------+-----+-----------+------------------+-------+-----+--------------------+-----+--------------------+--------------------+--------------------+\n",
            "|       0|    3|          0|                 0|      3|    2|!!! RT @mayasolov...|    3|[rt, mayasolovely...|[rt, mayasolovely...|[-0.0403613432620...|\n",
            "|       1|    3|          0|                 3|      0|    1|!!!!! RT @mleew17...|    2|[rt, mleew17, boy...|[rt, mleew17, boy...|[-0.0091969449870...|\n",
            "|       2|    3|          0|                 3|      0|    1|!!!!!!! RT @UrKin...|    2|[rt, urkindofbran...|[rt, urkindofbran...|[-0.0063409162491...|\n",
            "|       3|    3|          0|                 2|      1|    1|!!!!!!!!! RT @C_G...|    2|[rt, c_g_anderson...|[rt, c_g_anderson...|[-0.0064172126973...|\n",
            "|       4|    6|          0|                 6|      0|    1|!!!!!!!!!!!!! RT ...|    2|[rt, shenikarober...|[rt, shenikarober...|[-0.0149015528149...|\n",
            "|       5|    3|          1|                 2|      0|    1|\"!!!!!!!!!!!!!!!!...|    2|[t_madison_x, the...|[t_madison_x, shi...|[0.01983219650962...|\n",
            "|       6|    3|          0|                 3|      0|    1|\"!!!!!!\"\"@__Brigh...|    2|[__brighterdays, ...|[__brighterdays, ...|[-0.0342301641487...|\n",
            "|       7|    3|          0|                 3|      0|    1|!!!!&#8220;@selfi...|    2|[8220, selfiequee...|[8220, selfiequee...|[-0.0011920911104...|\n",
            "|       8|    3|          0|                 3|      0|    1|\"\"\" &amp; you mig...|    2|[amp, you, might,...|[amp, might, get,...|[-0.0546952284639...|\n",
            "|       9|    3|          1|                 2|      0|    1|\"\"\" @rhythmixx_ :...|    2|[rhythmixx_, hobb...|[rhythmixx_, hobb...|[-8.9560281485319...|\n",
            "|      10|    3|          0|                 3|      0|    1|\"\"\" Keeks is a bi...|    2|[keeks, is, a, bi...|[keeks, bitch, cu...|[0.01187679409566...|\n",
            "|      11|    3|          0|                 3|      0|    1|\"\"\" Murda Gang bi...|    2|[murda, gang, bit...|[murda, gang, bit...|[-0.0043472226476...|\n",
            "|      12|    3|          0|                 2|      1|    1|\"\"\" So hoes that ...|    2|[so, hoes, that, ...|[hoes, smoke, los...|[-0.0338976707619...|\n",
            "|      13|    3|          0|                 3|      0|    1|\"\"\" bad bitches i...|    2|[bad, bitches, is...|[bad, bitches, th...|[0.03196042776107...|\n",
            "|      18|    3|          0|                 3|      0|    1|\"\"\" bitches get c...|    2|[bitches, get, cu...|[bitches, get, cu...|[-0.0164303467608...|\n",
            "|      19|    3|          0|                 3|      0|    1|\"\"\" black bottle ...|    2|[black, bottle, a...|[black, bottle, a...|[-0.0434514900669...|\n",
            "|      20|    3|          0|                 3|      0|    1|\"\"\" broke bitch c...|    2|[broke, bitch, ca...|[broke, bitch, ca...|[-0.0315509257605...|\n",
            "|      21|    3|          0|                 3|      0|    1|\"\"\" cancel that b...|    2|[cancel, that, bi...|[cancel, bitch, l...|[0.03287497640121...|\n",
            "|      22|    3|          0|                 3|      0|    1|\"\"\" cant you see ...|    2|[cant, you, see, ...|[cant, see, hoes,...|[0.02090808427892...|\n",
            "|      23|    3|          0|                 3|      0|    1|\"\"\" fuck no that ...|    2|[fuck, no, that, ...|[fuck, bitch, don...|[-0.0082319332286...|\n",
            "+--------+-----+-----------+------------------+-------+-----+--------------------+-----+--------------------+--------------------+--------------------+\n",
            "only showing top 20 rows\n",
            "\n"
          ],
          "name": "stdout"
        }
      ]
    },
    {
      "cell_type": "markdown",
      "metadata": {
        "id": "cWlKGWqZdCc1"
      },
      "source": [
        "## Actividad 7\n",
        "Entrenamiento de modelo clasificador RandomForestClassifier"
      ]
    },
    {
      "cell_type": "code",
      "metadata": {
        "id": "n1lkC7O6dGbc"
      },
      "source": [
        "from pyspark.ml.classification import RandomForestClassifier\n",
        "\n",
        "algorithm = RandomForestClassifier(labelCol=\"label\", featuresCol=\"features\", numTrees=200)\n",
        "model = algorithm.fit(train_features)\n"
      ],
      "execution_count": 17,
      "outputs": []
    },
    {
      "cell_type": "code",
      "metadata": {
        "id": "27LL3o__eDpY"
      },
      "source": [
        "# obtener Dataframes de testing\n",
        "\n",
        "testing_words = tokenizer.transform(testing)\n",
        "testing_clean = stopWordsRemover.transform(testing_words)\n",
        "test_words = testing_clean.filter(size(testing_clean['clean_words']) > 3)\n",
        "test_features = model_w2v.transform(test_words)"
      ],
      "execution_count": 18,
      "outputs": []
    },
    {
      "cell_type": "code",
      "metadata": {
        "id": "qFv6pDDLew-5"
      },
      "source": [
        "# obtener predicciones\n",
        "\n",
        "predictions = model.transform(train_features)"
      ],
      "execution_count": 19,
      "outputs": []
    },
    {
      "cell_type": "code",
      "metadata": {
        "id": "TWgoIbfwe8JF",
        "outputId": "04cfb808-9f80-4d29-fc56-951c20ba3c86",
        "colab": {
          "base_uri": "https://localhost:8080/"
        }
      },
      "source": [
        "# mostrar label, predicciones, y el tweet original\n",
        "\n",
        "predictions.select(['class','prediction','tweet']).show(10)"
      ],
      "execution_count": 20,
      "outputs": [
        {
          "output_type": "stream",
          "text": [
            "+-----+----------+--------------------+\n",
            "|class|prediction|               tweet|\n",
            "+-----+----------+--------------------+\n",
            "|    2|       2.0|!!! RT @mayasolov...|\n",
            "|    1|       2.0|!!!!! RT @mleew17...|\n",
            "|    1|       2.0|!!!!!!! RT @UrKin...|\n",
            "|    1|       2.0|!!!!!!!!! RT @C_G...|\n",
            "|    1|       2.0|!!!!!!!!!!!!! RT ...|\n",
            "|    1|       2.0|\"!!!!!!!!!!!!!!!!...|\n",
            "|    1|       2.0|\"!!!!!!\"\"@__Brigh...|\n",
            "|    1|       2.0|!!!!&#8220;@selfi...|\n",
            "|    1|       2.0|\"\"\" &amp; you mig...|\n",
            "|    1|       3.0|\"\"\" @rhythmixx_ :...|\n",
            "+-----+----------+--------------------+\n",
            "only showing top 10 rows\n",
            "\n"
          ],
          "name": "stdout"
        }
      ]
    },
    {
      "cell_type": "code",
      "metadata": {
        "id": "4XHHp7Lpfa7n",
        "outputId": "a2efe4b4-4b78-480e-be74-9aff0b5451e8",
        "colab": {
          "base_uri": "https://localhost:8080/"
        }
      },
      "source": [
        "# evaluación con métrica de accuracy\n",
        "\n",
        "from pyspark.ml.evaluation import MulticlassClassificationEvaluator\n",
        "\n",
        "evaluator = MulticlassClassificationEvaluator(predictionCol='prediction', labelCol='label', metricName='accuracy')\n",
        "accuracy = evaluator.evaluate(predictions)\n",
        "print(\"Test accuracy: \", \"%2.1f%%\" % (accuracy*100,))"
      ],
      "execution_count": 21,
      "outputs": [
        {
          "output_type": "stream",
          "text": [
            "Test accuracy:  84.3%\n"
          ],
          "name": "stdout"
        }
      ]
    },
    {
      "cell_type": "code",
      "metadata": {
        "id": "cbEXnc5uHi58"
      },
      "source": [
        ""
      ],
      "execution_count": null,
      "outputs": []
    }
  ]
}